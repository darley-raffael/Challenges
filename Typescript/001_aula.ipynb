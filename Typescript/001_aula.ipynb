{
 "cells": [
  {
   "cell_type": "markdown",
   "metadata": {},
   "source": [
    "## Count Substring Occurrences\n",
    "This function should take a main string and a substring as inputs and return the number of occurrences of the substring within the main string. It should not be case-sensitive and may overlap."
   ]
  },
  {
   "cell_type": "code",
   "execution_count": 36,
   "metadata": {},
   "outputs": [
    {
     "name": "stdout",
     "output_type": "stream",
     "text": [
      "Example:\n",
      "2\n"
     ]
    }
   ],
   "source": [
    "function countOccurrences(mainStr: string, subStr: string): number {\n",
    "  let index = 0;\n",
    "  let count = 0;\n",
    "  mainStr = mainStr.toLowerCase();\n",
    "  subStr = subStr.toLowerCase();\n",
    "\n",
    "  while ((index = mainStr.indexOf(subStr, index)) !== -1) {\n",
    "    index++;\n",
    "    count++;\n",
    "  }\n",
    "  return count;\n",
    "}\n",
    "\n",
    "console.log(\"Example:\");\n",
    "console.log(countOccurrences(\"appleappleapple\", \"appleapple\"));\n",
    "\n"
   ]
  }
 ],
 "metadata": {
  "kernelspec": {
   "display_name": "Deno",
   "language": "typescript",
   "name": "deno"
  },
  "language_info": {
   "file_extension": ".ts",
   "mimetype": "text/x.typescript",
   "name": "typescript",
   "nb_converter": "script",
   "pygments_lexer": "typescript",
   "version": "5.3.3"
  }
 },
 "nbformat": 4,
 "nbformat_minor": 2
}
